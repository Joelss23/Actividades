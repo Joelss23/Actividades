{
  "nbformat": 4,
  "nbformat_minor": 0,
  "metadata": {
    "colab": {
      "private_outputs": true,
      "provenance": [],
      "toc_visible": true,
      "authorship_tag": "ABX9TyNalcT+iaKrpwSzjuqntbAv",
      "include_colab_link": true
    },
    "kernelspec": {
      "name": "python3",
      "display_name": "Python 3"
    },
    "language_info": {
      "name": "python"
    }
  },
  "cells": [
    {
      "cell_type": "markdown",
      "metadata": {
        "id": "view-in-github",
        "colab_type": "text"
      },
      "source": [
        "<a href=\"https://colab.research.google.com/github/Joelss23/Actividades/blob/main/Caso_Practica_Analitica_Espacial_Joel.ipynb\" target=\"_parent\"><img src=\"https://colab.research.google.com/assets/colab-badge.svg\" alt=\"Open In Colab\"/></a>"
      ]
    },
    {
      "cell_type": "markdown",
      "source": [
        "#1. Cargar Librerias"
      ],
      "metadata": {
        "id": "qle956y-hYdx"
      }
    },
    {
      "cell_type": "code",
      "source": [
        "#Librerías necesarias\n",
        "import json\n",
        "import pandas as pd\n",
        "import geopandas as gpd\n",
        "from shapely.geometry import Point\n",
        "import folium\n",
        "from folium import LayerControl\n",
        "from google.colab import files"
      ],
      "metadata": {
        "id": "vVXLPO4gsA9S"
      },
      "execution_count": null,
      "outputs": []
    },
    {
      "cell_type": "markdown",
      "source": [
        "#2. Carga de Datos"
      ],
      "metadata": {
        "id": "Ep1aHK9-uEVP"
      }
    },
    {
      "cell_type": "code",
      "source": [
        "#Cargar Archivos\n",
        "uploaded = files.upload()"
      ],
      "metadata": {
        "id": "rVWu4MFFuiuo"
      },
      "execution_count": null,
      "outputs": []
    },
    {
      "cell_type": "code",
      "source": [
        "#Cargar oficinas turísticas\n",
        "with open(\"oficinas_turisticas.json\", encoding='utf-8') as f:\n",
        "    oficinas_json = json.load(f)"
      ],
      "metadata": {
        "id": "QREdtcXisvvq"
      },
      "execution_count": null,
      "outputs": []
    },
    {
      "cell_type": "code",
      "source": [
        "#Extraccion de datos\n",
        "oficinas_data = oficinas_json['@graph']\n",
        "\n",
        "#Normalizacion para latitud y longitud\n",
        "oficinas_df = pd.json_normalize(\n",
        "    oficinas_data,\n",
        "    sep=\"_\"\n",
        ")"
      ],
      "metadata": {
        "id": "iL-Yx0uguJ99"
      },
      "execution_count": null,
      "outputs": []
    },
    {
      "cell_type": "code",
      "source": [
        "#Convertir GeoDataFrame\n",
        "oficinas_gdf = gpd.GeoDataFrame(\n",
        "    oficinas_df,\n",
        "    geometry=gpd.points_from_xy(\n",
        "        oficinas_df['location_longitude'],\n",
        "        oficinas_df['location_latitude']\n",
        "    ),\n",
        "    crs=\"EPSG:4326\"\n",
        ")"
      ],
      "metadata": {
        "id": "KkNz_6fOuKtH"
      },
      "execution_count": null,
      "outputs": []
    },
    {
      "cell_type": "code",
      "source": [
        "#Cargar estaciones de metro\n",
        "metro_gdf = gpd.read_file(\"M4_Estaciones.geojson\")\n",
        "\n",
        "metro_gdf = metro_gdf.to_crs(epsg=4326)"
      ],
      "metadata": {
        "id": "ynzsJtznuM8n"
      },
      "execution_count": null,
      "outputs": []
    },
    {
      "cell_type": "markdown",
      "source": [
        "#3. Visualizacion"
      ],
      "metadata": {
        "id": "lLlSgpc8uRTX"
      }
    },
    {
      "cell_type": "code",
      "source": [
        "#Crear mapa base centrado en Madrid\n",
        "mapa = folium.Map(location=[40.4168, -3.7038], zoom_start=13)"
      ],
      "metadata": {
        "id": "TmZ2rV6TuNoT"
      },
      "execution_count": null,
      "outputs": []
    },
    {
      "cell_type": "code",
      "source": [
        "#Añadir oficinas turísticas\n",
        "folium.GeoJson(\n",
        "    oficinas_gdf,\n",
        "    name=\"Oficinas Turísticas\",\n",
        "    tooltip=folium.GeoJsonTooltip(fields=[\"title\", \"address_street-address\", \"address_postal-code\"]),\n",
        "    marker=folium.CircleMarker(radius=6, color=\"red\", fill=True, fill_opacity=0.8),\n",
        ").add_to(mapa)"
      ],
      "metadata": {
        "id": "XFPR2YpRtk3C"
      },
      "execution_count": null,
      "outputs": []
    },
    {
      "cell_type": "code",
      "source": [
        "#Añadir estaciones de metro\n",
        "folium.GeoJson(\n",
        "    metro_gdf,\n",
        "    name=\"Estaciones de Metro\",\n",
        "    tooltip=folium.GeoJsonTooltip(fields=[\"DENOMINACION\"]),  # <-- Corrección aquí\n",
        "    marker=folium.CircleMarker(radius=4, color=\"blue\", fill=True, fill_opacity=0.7),\n",
        ").add_to(mapa)"
      ],
      "metadata": {
        "id": "TXkZkCYOtpQ9"
      },
      "execution_count": null,
      "outputs": []
    },
    {
      "cell_type": "code",
      "source": [
        "#Añadir control de capas\n",
        "LayerControl().add_to(mapa)"
      ],
      "metadata": {
        "id": "egBOMZQItqKp"
      },
      "execution_count": null,
      "outputs": []
    },
    {
      "cell_type": "code",
      "source": [
        "#Mostrar mapa\n",
        "mapa"
      ],
      "metadata": {
        "id": "yORZLuDovjGe"
      },
      "execution_count": null,
      "outputs": []
    }
  ]
}